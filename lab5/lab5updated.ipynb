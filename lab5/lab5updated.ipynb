{
 "cells": [
  {
   "cell_type": "markdown",
   "id": "dfff50b4",
   "metadata": {},
   "source": [
    "# Deploying a Model Using SageMaker Endpoints\n",
    "\n",
    "This notebook demonstrates how to register a model in the SageMaker Model Registry and then deploy it as a SageMaker Endpoint.\n",
    "\n",
    "We'll walk through the following steps:\n",
    "1. Set up necessary imports and configurations.\n",
    "2. Register a model in the SageMaker Model Registry.\n",
    "3. Retrieve the model from the SageMaker Model Registry.\n",
    "4. Create an endpoint configuration.\n",
    "5. Deploy the model as a SageMaker Endpoint.\n",
    "6. Make predictions using the endpoint.\n",
    "\n",
    "This example assumes that the model is a linear regression model trained using the Linear Learner algorithm and is for house price prediction based on input data in CSV format."
   ]
  },
  {
   "cell_type": "code",
   "execution_count": null,
   "id": "71659c6b",
   "metadata": {},
   "outputs": [],
   "source": [
    "# Step 1: Import necessary libraries\n",
    "import boto3\n",
    "from sagemaker import get_execution_role\n",
    "from sagemaker.session import Session\n",
    "\n",
    "# Define your SageMaker session and role\n",
    "sagemaker_session = Session()\n",
    "role = get_execution_role()\n",
    "\n",
    "# Define S3 bucket and prefix\n",
    "bucket = 'your-s3-bucket-name'\n",
    "prefix = 'path/to/your/model'"
   ]
  },
  {
   "cell_type": "markdown",
   "id": "85e79907",
   "metadata": {},
   "source": [
    "## Step 2: Register a Model in the SageMaker Model Registry\n",
    "We'll upload a model artifact to S3, specify inference image URI, and create a model package group to register the model."
   ]
  },
  {
   "cell_type": "code",
   "execution_count": null,
   "id": "5dce15c0",
   "metadata": {},
   "outputs": [],
   "source": [
    "# Upload the model artifact to S3\n",
    "model_artifact = f's3://{bucket}/{prefix}/model.tar.gz'\n",
    "\n",
    "# Define inference container image URI\n",
    "inference_image_uri = '683313688378.dkr.ecr.us-east-1.amazonaws.com/linear-learner:latest'\n",
    "\n",
    "# Create a model package group\n",
    "model_package_group_name = 'house-price-prediction-group'\n",
    "sagemaker_client = boto3.client('sagemaker')\n",
    "\n",
    "try:\n",
    "    sagemaker_client.create_model_package_group(\n",
    "        ModelPackageGroupName=model_package_group_name,\n",
    "        ModelPackageGroupDescription='Model group for house price prediction'\n",
    "    )\n",
    "    print(f'Created Model Package Group: {model_package_group_name}')\n",
    "except sagemaker_client.exceptions.ResourceInUse:\n",
    "    print(f'Model Package Group {model_package_group_name} already exists.')\n",
    "\n",
    "# Register the model\n",
    "model_package_response = sagemaker_client.create_model_package(\n",
    "    ModelPackageGroupName=model_package_group_name,\n",
    "    ModelPackageDescription='Linear regression model for house price prediction',\n",
    "    InferenceSpecification={\n",
    "        'Containers': [\n",
    "            {\n",
    "                'Image': inference_image_uri,\n",
    "                'ModelDataUrl': model_artifact\n",
    "            }\n",
    "        ],\n",
    "        'SupportedContentTypes': ['text/csv'],\n",
    "        'SupportedResponseMIMETypes': ['text/csv']\n",
    "    },\n",
    "    ModelApprovalStatus='Approved'\n",
    ")\n",
    "\n",
    "model_package_arn = model_package_response['ModelPackageArn']\n",
    "print(f'Registered Model Package ARN: {model_package_arn}')"
   ]
  },
  {
   "cell_type": "markdown",
   "id": "1f3a9c51",
   "metadata": {},
   "source": [
    "## Step 3: Retrieve the Model from the SageMaker Model Registry\n",
    "We will retrieve the registered model package from the model package group."
   ]
  },
  {
   "cell_type": "code",
   "execution_count": null,
   "id": "37f3874c",
   "metadata": {},
   "outputs": [],
   "source": [
    "# Define your model package group name\n",
    "# (This was already defined earlier as model_package_group_name)\n",
    "\n",
    "# Get the latest approved model package\n",
    "response = sagemaker_client.list_model_packages(\n",
    "    ModelPackageGroupName=model_package_group_name,\n",
    "    ModelApprovalStatus='Approved',\n",
    "    SortBy='CreationTime',\n",
    "    SortOrder='Descending'\n",
    ")\n",
    "\n",
    "latest_model_package_arn = response['ModelPackageSummaryList'][0]['ModelPackageArn']\n",
    "print(f'Latest Approved Model Package ARN: {latest_model_package_arn}')"
   ]
  },
  {
   "cell_type": "markdown",
   "id": "38423d18",
   "metadata": {},
   "source": [
    "## Step 4: Create an Endpoint Configuration\n",
    "The endpoint configuration specifies the model to use and the instance type for deployment."
   ]
  },
  {
   "cell_type": "code",
   "execution_count": null,
   "id": "5787bb9c",
   "metadata": {},
   "outputs": [],
   "source": [
    "# Define endpoint configuration name\n",
    "endpoint_config_name = 'house-price-endpoint-config'\n",
    "\n",
    "# Create the endpoint configuration\n",
    "sagemaker_client.create_endpoint_config(\n",
    "    EndpointConfigName=endpoint_config_name,\n",
    "    ProductionVariants=[\n",
    "        {\n",
    "            'VariantName': 'AllTraffic',\n",
    "            'ModelName': latest_model_package_arn.split('/')[-1],\n",
    "            'InstanceType': 'ml.m5.large',\n",
    "            'InitialInstanceCount': 1\n",
    "        }\n",
    "    ]\n",
    ")\n",
    "print(f'Created endpoint configuration: {endpoint_config_name}')"
   ]
  },
  {
   "cell_type": "markdown",
   "id": "7f6f874b",
   "metadata": {},
   "source": [
    "## Step 5: Create the Endpoint\n",
    "The endpoint is the actual service that serves predictions using your deployed model."
   ]
  },
  {
   "cell_type": "code",
   "execution_count": null,
   "id": "2a1214fc",
   "metadata": {},
   "outputs": [],
   "source": [
    "# Define endpoint name\n",
    "endpoint_name = 'house-price-prediction-endpoint'\n",
    "\n",
    "# Create the endpoint\n",
    "sagemaker_client.create_endpoint(\n",
    "    EndpointName=endpoint_name,\n",
    "    EndpointConfigName=endpoint_config_name\n",
    ")\n",
    "print(f'Creating endpoint: {endpoint_name}')"
   ]
  },
  {
   "cell_type": "markdown",
   "id": "5f86719b",
   "metadata": {},
   "source": [
    "## Step 6: Test the Endpoint\n",
    "Now that the endpoint is deployed, we can send input data for inference and get predictions."
   ]
  },
  {
   "cell_type": "code",
   "execution_count": null,
   "id": "20d7e35c",
   "metadata": {},
   "outputs": [],
   "source": [
    "import json\n",
    "import numpy as np\n",
    "\n",
    "# Prepare sample input data\n",
    "input_data = '2000,3,2,1'  # Example CSV input: square footage, bedrooms, bathrooms, garage\n",
    "\n",
    "# Create runtime client\n",
    "runtime_client = boto3.client('sagemaker-runtime')\n",
    "\n",
    "# Make the prediction\n",
    "response = runtime_client.invoke_endpoint(\n",
    "    EndpointName=endpoint_name,\n",
    "    ContentType='text/csv',\n",
    "    Body=input_data\n",
    ")\n",
    "\n",
    "# Decode the response\n",
    "prediction = response['Body'].read().decode('utf-8')\n",
    "print(f'Predicted house price: {prediction}')"
   ]
  }
 ],
 "metadata": {
  "kernelspec": {
   "display_name": "Python 3 (ipykernel)",
   "language": "python",
   "name": "python3"
  },
  "language_info": {
   "codemirror_mode": {
    "name": "ipython",
    "version": 3
   },
   "file_extension": ".py",
   "mimetype": "text/x-python",
   "name": "python",
   "nbconvert_exporter": "python",
   "pygments_lexer": "ipython3",
   "version": "3.11.11"
  }
 },
 "nbformat": 4,
 "nbformat_minor": 5
}
